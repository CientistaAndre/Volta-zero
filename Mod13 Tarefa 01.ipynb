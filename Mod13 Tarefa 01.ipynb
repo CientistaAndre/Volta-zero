{
 "cells": [
  {
   "cell_type": "markdown",
   "metadata": {},
   "source": [
    "# EBAC - Regressão II - regressão múltipla\n",
    "\n",
    "## Tarefa I"
   ]
  },
  {
   "cell_type": "markdown",
   "metadata": {},
   "source": [
    "#### Previsão de renda\n",
    "\n",
    "Vamos trabalhar com a base 'previsao_de_renda.csv', que é a base do seu próximo projeto. Vamos usar os recursos que vimos até aqui nesta base.\n",
    "\n",
    "|variavel|descrição|\n",
    "|-|-|\n",
    "|data_ref                | Data de referência de coleta das variáveis |\n",
    "|index                   | Código de identificação do cliente|\n",
    "|sexo                    | Sexo do cliente|\n",
    "|posse_de_veiculo        | Indica se o cliente possui veículo|\n",
    "|posse_de_imovel         | Indica se o cliente possui imóvel|\n",
    "|qtd_filhos              | Quantidade de filhos do cliente|\n",
    "|tipo_renda              | Tipo de renda do cliente|\n",
    "|educacao                | Grau de instrução do cliente|\n",
    "|estado_civil            | Estado civil do cliente|\n",
    "|tipo_residencia         | Tipo de residência do cliente (própria, alugada etc)|\n",
    "|idade                   | Idade do cliente|\n",
    "|tempo_emprego           | Tempo no emprego atual|\n",
    "|qt_pessoas_residencia   | Quantidade de pessoas que moram na residência|\n",
    "|renda                   | Renda em reais|"
   ]
  },
  {
   "cell_type": "code",
   "execution_count": 25,
   "metadata": {},
   "outputs": [
    {
     "data": {
      "text/html": [
       "<div>\n",
       "<style scoped>\n",
       "    .dataframe tbody tr th:only-of-type {\n",
       "        vertical-align: middle;\n",
       "    }\n",
       "\n",
       "    .dataframe tbody tr th {\n",
       "        vertical-align: top;\n",
       "    }\n",
       "\n",
       "    .dataframe thead th {\n",
       "        text-align: right;\n",
       "    }\n",
       "</style>\n",
       "<table border=\"1\" class=\"dataframe\">\n",
       "  <thead>\n",
       "    <tr style=\"text-align: right;\">\n",
       "      <th></th>\n",
       "      <th>data_ref</th>\n",
       "      <th>id_cliente</th>\n",
       "      <th>sexo</th>\n",
       "      <th>posse_de_veiculo</th>\n",
       "      <th>posse_de_imovel</th>\n",
       "      <th>qtd_filhos</th>\n",
       "      <th>tipo_renda</th>\n",
       "      <th>educacao</th>\n",
       "      <th>estado_civil</th>\n",
       "      <th>tipo_residencia</th>\n",
       "      <th>idade</th>\n",
       "      <th>tempo_emprego</th>\n",
       "      <th>qt_pessoas_residencia</th>\n",
       "      <th>renda</th>\n",
       "    </tr>\n",
       "  </thead>\n",
       "  <tbody>\n",
       "    <tr>\n",
       "      <th>0</th>\n",
       "      <td>2015-01-01</td>\n",
       "      <td>15056</td>\n",
       "      <td>F</td>\n",
       "      <td>False</td>\n",
       "      <td>True</td>\n",
       "      <td>0</td>\n",
       "      <td>Empresário</td>\n",
       "      <td>Secundário</td>\n",
       "      <td>Solteiro</td>\n",
       "      <td>Casa</td>\n",
       "      <td>26</td>\n",
       "      <td>6.602740</td>\n",
       "      <td>1.0</td>\n",
       "      <td>8060.34</td>\n",
       "    </tr>\n",
       "    <tr>\n",
       "      <th>1</th>\n",
       "      <td>2015-01-01</td>\n",
       "      <td>9968</td>\n",
       "      <td>M</td>\n",
       "      <td>True</td>\n",
       "      <td>True</td>\n",
       "      <td>0</td>\n",
       "      <td>Assalariado</td>\n",
       "      <td>Superior completo</td>\n",
       "      <td>Casado</td>\n",
       "      <td>Casa</td>\n",
       "      <td>28</td>\n",
       "      <td>7.183562</td>\n",
       "      <td>2.0</td>\n",
       "      <td>1852.15</td>\n",
       "    </tr>\n",
       "    <tr>\n",
       "      <th>2</th>\n",
       "      <td>2015-01-01</td>\n",
       "      <td>4312</td>\n",
       "      <td>F</td>\n",
       "      <td>True</td>\n",
       "      <td>True</td>\n",
       "      <td>0</td>\n",
       "      <td>Empresário</td>\n",
       "      <td>Superior completo</td>\n",
       "      <td>Casado</td>\n",
       "      <td>Casa</td>\n",
       "      <td>35</td>\n",
       "      <td>0.838356</td>\n",
       "      <td>2.0</td>\n",
       "      <td>2253.89</td>\n",
       "    </tr>\n",
       "    <tr>\n",
       "      <th>3</th>\n",
       "      <td>2015-01-01</td>\n",
       "      <td>10639</td>\n",
       "      <td>F</td>\n",
       "      <td>False</td>\n",
       "      <td>True</td>\n",
       "      <td>1</td>\n",
       "      <td>Servidor público</td>\n",
       "      <td>Superior completo</td>\n",
       "      <td>Casado</td>\n",
       "      <td>Casa</td>\n",
       "      <td>30</td>\n",
       "      <td>4.846575</td>\n",
       "      <td>3.0</td>\n",
       "      <td>6600.77</td>\n",
       "    </tr>\n",
       "    <tr>\n",
       "      <th>4</th>\n",
       "      <td>2015-01-01</td>\n",
       "      <td>7064</td>\n",
       "      <td>M</td>\n",
       "      <td>True</td>\n",
       "      <td>False</td>\n",
       "      <td>0</td>\n",
       "      <td>Assalariado</td>\n",
       "      <td>Secundário</td>\n",
       "      <td>Solteiro</td>\n",
       "      <td>Governamental</td>\n",
       "      <td>33</td>\n",
       "      <td>4.293151</td>\n",
       "      <td>1.0</td>\n",
       "      <td>6475.97</td>\n",
       "    </tr>\n",
       "  </tbody>\n",
       "</table>\n",
       "</div>"
      ],
      "text/plain": [
       "    data_ref  id_cliente sexo  posse_de_veiculo  posse_de_imovel  qtd_filhos  \\\n",
       "0 2015-01-01       15056    F             False             True           0   \n",
       "1 2015-01-01        9968    M              True             True           0   \n",
       "2 2015-01-01        4312    F              True             True           0   \n",
       "3 2015-01-01       10639    F             False             True           1   \n",
       "4 2015-01-01        7064    M              True            False           0   \n",
       "\n",
       "         tipo_renda           educacao estado_civil tipo_residencia  idade  \\\n",
       "0        Empresário         Secundário     Solteiro            Casa     26   \n",
       "1       Assalariado  Superior completo       Casado            Casa     28   \n",
       "2        Empresário  Superior completo       Casado            Casa     35   \n",
       "3  Servidor público  Superior completo       Casado            Casa     30   \n",
       "4       Assalariado         Secundário     Solteiro   Governamental     33   \n",
       "\n",
       "   tempo_emprego  qt_pessoas_residencia    renda  \n",
       "0       6.602740                    1.0  8060.34  \n",
       "1       7.183562                    2.0  1852.15  \n",
       "2       0.838356                    2.0  2253.89  \n",
       "3       4.846575                    3.0  6600.77  \n",
       "4       4.293151                    1.0  6475.97  "
      ]
     },
     "execution_count": 25,
     "metadata": {},
     "output_type": "execute_result"
    }
   ],
   "source": [
    "import pandas as pd\n",
    "import numpy as np\n",
    "import seaborn as sns\n",
    "import matplotlib.pyplot as plt\n",
    "\n",
    "import statsmodels.formula.api as smf\n",
    "import statsmodels.api as sm\n",
    "import patsy\n",
    "\n",
    "df = pd.read_csv('previsao_de_renda.csv', parse_dates=['data_ref'])\n",
    "df.drop('Unnamed: 0', axis=1, inplace=True)\n",
    "\n",
    "df.head()"
   ]
  },
  {
   "cell_type": "code",
   "execution_count": 7,
   "metadata": {},
   "outputs": [
    {
     "name": "stdout",
     "output_type": "stream",
     "text": [
      "<class 'pandas.core.frame.DataFrame'>\n",
      "RangeIndex: 15000 entries, 0 to 14999\n",
      "Data columns (total 14 columns):\n",
      " #   Column                 Non-Null Count  Dtype         \n",
      "---  ------                 --------------  -----         \n",
      " 0   data_ref               15000 non-null  datetime64[ns]\n",
      " 1   id_cliente             15000 non-null  int64         \n",
      " 2   sexo                   15000 non-null  object        \n",
      " 3   posse_de_veiculo       15000 non-null  bool          \n",
      " 4   posse_de_imovel        15000 non-null  bool          \n",
      " 5   qtd_filhos             15000 non-null  int64         \n",
      " 6   tipo_renda             15000 non-null  object        \n",
      " 7   educacao               15000 non-null  object        \n",
      " 8   estado_civil           15000 non-null  object        \n",
      " 9   tipo_residencia        15000 non-null  object        \n",
      " 10  idade                  15000 non-null  int64         \n",
      " 11  tempo_emprego          12427 non-null  float64       \n",
      " 12  qt_pessoas_residencia  15000 non-null  float64       \n",
      " 13  renda                  15000 non-null  float64       \n",
      "dtypes: bool(2), datetime64[ns](1), float64(3), int64(3), object(5)\n",
      "memory usage: 1.4+ MB\n"
     ]
    }
   ],
   "source": [
    "df.info()"
   ]
  },
  {
   "cell_type": "markdown",
   "metadata": {},
   "source": [
    "1. Ajuste um modelo para prever log(renda) considerando todas as covariáveis disponíveis.\n",
    "    - Utilizando os recursos do Patsy, coloque as variáveis qualitativas como *dummies*.\n",
    "    - Mantenha sempre a categoria mais frequente como casela de referência\n",
    "    - Avalie os parâmetros e veja se parecem fazer sentido prático.\n",
    "\n",
    "2. Remova a variável menos significante e analise:\n",
    "    - Observe os indicadores que vimos, e avalie se o modelo melhorou ou piorou na sua opinião.\n",
    "    - Observe os parâmetros e veja se algum se alterou muito.\n",
    "\n",
    "3. Siga removendo as variáveis menos significantes, sempre que o *p-value* for menor que 5%. Compare o modelo final com o inicial. Observe os indicadores e conclua se o modelo parece melhor. \n",
    "    "
   ]
  },
  {
   "cell_type": "markdown",
   "metadata": {},
   "source": [
    "# 1"
   ]
  },
  {
   "cell_type": "code",
   "execution_count": 8,
   "metadata": {},
   "outputs": [
    {
     "data": {
      "text/html": [
       "<div>\n",
       "<style scoped>\n",
       "    .dataframe tbody tr th:only-of-type {\n",
       "        vertical-align: middle;\n",
       "    }\n",
       "\n",
       "    .dataframe tbody tr th {\n",
       "        vertical-align: top;\n",
       "    }\n",
       "\n",
       "    .dataframe thead th {\n",
       "        text-align: right;\n",
       "    }\n",
       "</style>\n",
       "<table border=\"1\" class=\"dataframe\">\n",
       "  <thead>\n",
       "    <tr style=\"text-align: right;\">\n",
       "      <th></th>\n",
       "      <th>sexo</th>\n",
       "      <th>posse_de_veiculo</th>\n",
       "      <th>posse_de_imovel</th>\n",
       "      <th>tipo_renda</th>\n",
       "      <th>educacao</th>\n",
       "      <th>estado_civil</th>\n",
       "      <th>tipo_residencia</th>\n",
       "    </tr>\n",
       "  </thead>\n",
       "  <tbody>\n",
       "    <tr>\n",
       "      <th>0</th>\n",
       "      <td>F</td>\n",
       "      <td>False</td>\n",
       "      <td>True</td>\n",
       "      <td>Empresário</td>\n",
       "      <td>Secundário</td>\n",
       "      <td>Solteiro</td>\n",
       "      <td>Casa</td>\n",
       "    </tr>\n",
       "    <tr>\n",
       "      <th>1</th>\n",
       "      <td>M</td>\n",
       "      <td>True</td>\n",
       "      <td>True</td>\n",
       "      <td>Assalariado</td>\n",
       "      <td>Superior completo</td>\n",
       "      <td>Casado</td>\n",
       "      <td>Casa</td>\n",
       "    </tr>\n",
       "    <tr>\n",
       "      <th>2</th>\n",
       "      <td>F</td>\n",
       "      <td>True</td>\n",
       "      <td>True</td>\n",
       "      <td>Empresário</td>\n",
       "      <td>Superior completo</td>\n",
       "      <td>Casado</td>\n",
       "      <td>Casa</td>\n",
       "    </tr>\n",
       "    <tr>\n",
       "      <th>3</th>\n",
       "      <td>F</td>\n",
       "      <td>False</td>\n",
       "      <td>True</td>\n",
       "      <td>Servidor público</td>\n",
       "      <td>Superior completo</td>\n",
       "      <td>Casado</td>\n",
       "      <td>Casa</td>\n",
       "    </tr>\n",
       "    <tr>\n",
       "      <th>4</th>\n",
       "      <td>M</td>\n",
       "      <td>True</td>\n",
       "      <td>False</td>\n",
       "      <td>Assalariado</td>\n",
       "      <td>Secundário</td>\n",
       "      <td>Solteiro</td>\n",
       "      <td>Governamental</td>\n",
       "    </tr>\n",
       "  </tbody>\n",
       "</table>\n",
       "</div>"
      ],
      "text/plain": [
       "  sexo  posse_de_veiculo  posse_de_imovel        tipo_renda  \\\n",
       "0    F             False             True        Empresário   \n",
       "1    M              True             True       Assalariado   \n",
       "2    F              True             True        Empresário   \n",
       "3    F             False             True  Servidor público   \n",
       "4    M              True            False       Assalariado   \n",
       "\n",
       "            educacao estado_civil tipo_residencia  \n",
       "0         Secundário     Solteiro            Casa  \n",
       "1  Superior completo       Casado            Casa  \n",
       "2  Superior completo       Casado            Casa  \n",
       "3  Superior completo       Casado            Casa  \n",
       "4         Secundário     Solteiro   Governamental  "
      ]
     },
     "execution_count": 8,
     "metadata": {},
     "output_type": "execute_result"
    }
   ],
   "source": [
    "# selecionando variáveis qualitativas\n",
    "var_qual = df.select_dtypes(include=['object','bool'])\n",
    "var_qual.head()"
   ]
  },
  {
   "cell_type": "code",
   "execution_count": 9,
   "metadata": {},
   "outputs": [
    {
     "data": {
      "text/plain": [
       "(array([0, 1, 2, 3, 4]),\n",
       " [Text(0, 0, 'Secundário'),\n",
       "  Text(1, 0, 'Superior completo'),\n",
       "  Text(2, 0, 'Superior incompleto'),\n",
       "  Text(3, 0, 'Primário'),\n",
       "  Text(4, 0, 'Pós graduação')])"
      ]
     },
     "execution_count": 9,
     "metadata": {},
     "output_type": "execute_result"
    },
    {
     "data": {
      "image/png": "[encoded data removed]",
      "text/plain": [
       "<Figure size 640x480 with 1 Axes>"
      ]
     },
     "metadata": {},
     "output_type": "display_data"
    }
   ],
   "source": [
    "# exemplo de variável qualitativa \n",
    "sns.pointplot(y = 'renda', x = 'educacao', data = df)\n",
    "plt.xticks(rotation=45)"
   ]
  },
  {
   "cell_type": "code",
   "execution_count": 10,
   "metadata": {},
   "outputs": [
    {
     "data": {
      "text/plain": [
       "Assalariado         7633\n",
       "Empresário          3508\n",
       "Pensionista         2582\n",
       "Servidor público    1268\n",
       "Bolsista               9\n",
       "Name: tipo_renda, dtype: int64"
      ]
     },
     "execution_count": 10,
     "metadata": {},
     "output_type": "execute_result"
    }
   ],
   "source": [
    "var_qual['tipo_renda'].value_counts()"
   ]
  },
  {
   "cell_type": "code",
   "execution_count": 11,
   "metadata": {},
   "outputs": [
    {
     "data": {
      "text/plain": [
       "Index(['sexo', 'posse_de_veiculo', 'posse_de_imovel', 'tipo_renda', 'educacao',\n",
       "       'estado_civil', 'tipo_residencia'],\n",
       "      dtype='object')"
      ]
     },
     "execution_count": 11,
     "metadata": {},
     "output_type": "execute_result"
    }
   ],
   "source": [
    "var_qual.columns"
   ]
  },
  {
   "cell_type": "code",
   "execution_count": 12,
   "metadata": {},
   "outputs": [
    {
     "data": {
      "text/plain": [
       "Index(['data_ref', 'id_cliente', 'sexo', 'posse_de_veiculo', 'posse_de_imovel',\n",
       "       'qtd_filhos', 'tipo_renda', 'educacao', 'estado_civil',\n",
       "       'tipo_residencia', 'idade', 'tempo_emprego', 'qt_pessoas_residencia',\n",
       "       'renda'],\n",
       "      dtype='object')"
      ]
     },
     "execution_count": 12,
     "metadata": {},
     "output_type": "execute_result"
    }
   ],
   "source": [
    "df.columns"
   ]
  },
  {
   "cell_type": "code",
   "execution_count": 13,
   "metadata": {
    "scrolled": false
   },
   "outputs": [
    {
     "data": {
      "text/plain": [
       "DesignMatrix with shape (12427, 25)\n",
       "  Columns:\n",
       "    ['Intercept',\n",
       "     'C(sexo, Treatment(0))[T.M]',\n",
       "     'C(tipo_renda, Treatment(0))[T.Bolsista]',\n",
       "     'C(tipo_renda, Treatment(0))[T.Empresário]',\n",
       "     'C(tipo_renda, Treatment(0))[T.Pensionista]',\n",
       "     'C(tipo_renda, Treatment(0))[T.Servidor público]',\n",
       "     'C(educacao, Treatment(2))[T.Primário]',\n",
       "     'C(educacao, Treatment(2))[T.Pós graduação]',\n",
       "     'C(educacao, Treatment(2))[T.Superior completo]',\n",
       "     'C(educacao, Treatment(2))[T.Superior incompleto]',\n",
       "     'C(estado_civil, Treatment(0))[T.Separado]',\n",
       "     'C(estado_civil, Treatment(0))[T.Solteiro]',\n",
       "     'C(estado_civil, Treatment(0))[T.União]',\n",
       "     'C(estado_civil, Treatment(0))[T.Viúvo]',\n",
       "     'C(tipo_residencia, Treatment(1))[T.Aluguel]',\n",
       "     'C(tipo_residencia, Treatment(1))[T.Com os pais]',\n",
       "     'C(tipo_residencia, Treatment(1))[T.Comunitário]',\n",
       "     'C(tipo_residencia, Treatment(1))[T.Estúdio]',\n",
       "     'C(tipo_residencia, Treatment(1))[T.Governamental]',\n",
       "     'C(posse_de_veiculo, Treatment(0))[T.True]',\n",
       "     'C(posse_de_imovel, Treatment(1))[T.False]',\n",
       "     'qtd_filhos',\n",
       "     'idade',\n",
       "     'tempo_emprego',\n",
       "     'qt_pessoas_residencia']\n",
       "  Terms:\n",
       "    'Intercept' (column 0)\n",
       "    'C(sexo, Treatment(0))' (column 1)\n",
       "    'C(tipo_renda, Treatment(0))' (columns 2:6)\n",
       "    'C(educacao, Treatment(2))' (columns 6:10)\n",
       "    'C(estado_civil, Treatment(0))' (columns 10:14)\n",
       "    'C(tipo_residencia, Treatment(1))' (columns 14:19)\n",
       "    'C(posse_de_veiculo, Treatment(0))' (column 19)\n",
       "    'C(posse_de_imovel, Treatment(1))' (column 20)\n",
       "    'qtd_filhos' (column 21)\n",
       "    'idade' (column 22)\n",
       "    'tempo_emprego' (column 23)\n",
       "    'qt_pessoas_residencia' (column 24)\n",
       "  (to view full data, use np.asarray(this_obj))"
      ]
     },
     "execution_count": 13,
     "metadata": {},
     "output_type": "execute_result"
    }
   ],
   "source": [
    "# variáveis qualitativas como dummies - colocando Treatment para variável mais frequente (não vou usar a data_ref nem id_cliente)\n",
    "y, x = patsy.dmatrices('''\n",
    "                       np.log(renda) ~ \n",
    "                               C(sexo, Treatment(0))\n",
    "                               + C(tipo_renda, Treatment(0))\n",
    "                               + C(educacao, Treatment(2))\n",
    "                               + C(estado_civil, Treatment(0))\n",
    "                               + C(tipo_residencia, Treatment(1))\n",
    "                               + C(posse_de_veiculo, Treatment(0))\n",
    "                               + C(posse_de_imovel, Treatment(1))\n",
    "                               + qtd_filhos\n",
    "                               + idade\n",
    "                               + tempo_emprego\n",
    "                               + qt_pessoas_residencia\n",
    "                       ''', data = df)\n",
    "x"
   ]
  },
  {
   "cell_type": "code",
   "execution_count": 26,
   "metadata": {
    "scrolled": false
   },
   "outputs": [
    {
     "data": {
      "text/html": [
       "<table class=\"simpletable\">\n",
       "<caption>OLS Regression Results</caption>\n",
       "<tr>\n",
       "  <th>Dep. Variable:</th>      <td>np.log(renda)</td>  <th>  R-squared:         </th> <td>   0.357</td> \n",
       "</tr>\n",
       "<tr>\n",
       "  <th>Model:</th>                   <td>OLS</td>       <th>  Adj. R-squared:    </th> <td>   0.356</td> \n",
       "</tr>\n",
       "<tr>\n",
       "  <th>Method:</th>             <td>Least Squares</td>  <th>  F-statistic:       </th> <td>   530.1</td> \n",
       "</tr>\n",
       "<tr>\n",
       "  <th>Date:</th>             <td>Tue, 15 Nov 2022</td> <th>  Prob (F-statistic):</th>  <td>  0.00</td>  \n",
       "</tr>\n",
       "<tr>\n",
       "  <th>Time:</th>                 <td>19:46:04</td>     <th>  Log-Likelihood:    </th> <td> -13572.</td> \n",
       "</tr>\n",
       "<tr>\n",
       "  <th>No. Observations:</th>      <td> 12427</td>      <th>  AIC:               </th> <td>2.717e+04</td>\n",
       "</tr>\n",
       "<tr>\n",
       "  <th>Df Residuals:</th>          <td> 12413</td>      <th>  BIC:               </th> <td>2.728e+04</td>\n",
       "</tr>\n",
       "<tr>\n",
       "  <th>Df Model:</th>              <td>    13</td>      <th>                     </th>     <td> </td>    \n",
       "</tr>\n",
       "<tr>\n",
       "  <th>Covariance Type:</th>      <td>nonrobust</td>    <th>                     </th>     <td> </td>    \n",
       "</tr>\n",
       "</table>\n",
       "<table class=\"simpletable\">\n",
       "<tr>\n",
       "                         <td></td>                            <th>coef</th>     <th>std err</th>      <th>t</th>      <th>P>|t|</th>  <th>[0.025</th>    <th>0.975]</th>  \n",
       "</tr>\n",
       "<tr>\n",
       "  <th>Intercept</th>                                       <td>    6.5987</td> <td>    0.218</td> <td>   30.210</td> <td> 0.000</td> <td>    6.171</td> <td>    7.027</td>\n",
       "</tr>\n",
       "<tr>\n",
       "  <th>C(sexo, Treatment(0))[T.M]</th>                      <td>    0.7897</td> <td>    0.015</td> <td>   54.092</td> <td> 0.000</td> <td>    0.761</td> <td>    0.818</td>\n",
       "</tr>\n",
       "<tr>\n",
       "  <th>C(tipo_renda, Treatment(0))[T.Empresário]</th>       <td>    0.1550</td> <td>    0.015</td> <td>   10.413</td> <td> 0.000</td> <td>    0.126</td> <td>    0.184</td>\n",
       "</tr>\n",
       "<tr>\n",
       "  <th>C(tipo_renda, Treatment(0))[T.Servidor público]</th> <td>    0.0591</td> <td>    0.022</td> <td>    2.661</td> <td> 0.008</td> <td>    0.016</td> <td>    0.103</td>\n",
       "</tr>\n",
       "<tr>\n",
       "  <th>C(educacao, Treatment(0))[T.Superior completo]</th>  <td>    0.1096</td> <td>    0.014</td> <td>    8.078</td> <td> 0.000</td> <td>    0.083</td> <td>    0.136</td>\n",
       "</tr>\n",
       "<tr>\n",
       "  <th>C(estado_civil, Treatment(2))[T.Separado]</th>       <td>    0.3313</td> <td>    0.111</td> <td>    2.979</td> <td> 0.003</td> <td>    0.113</td> <td>    0.549</td>\n",
       "</tr>\n",
       "<tr>\n",
       "  <th>C(estado_civil, Treatment(2))[T.Solteiro]</th>       <td>    0.2709</td> <td>    0.109</td> <td>    2.489</td> <td> 0.013</td> <td>    0.058</td> <td>    0.484</td>\n",
       "</tr>\n",
       "<tr>\n",
       "  <th>C(estado_civil, Treatment(2))[T.Viúvo]</th>          <td>    0.3713</td> <td>    0.116</td> <td>    3.213</td> <td> 0.001</td> <td>    0.145</td> <td>    0.598</td>\n",
       "</tr>\n",
       "<tr>\n",
       "  <th>C(posse_de_veiculo, Treatment(0))[T.True]</th>       <td>    0.0455</td> <td>    0.014</td> <td>    3.230</td> <td> 0.001</td> <td>    0.018</td> <td>    0.073</td>\n",
       "</tr>\n",
       "<tr>\n",
       "  <th>C(posse_de_imovel, Treatment(1))[T.False]</th>       <td>   -0.0833</td> <td>    0.014</td> <td>   -6.077</td> <td> 0.000</td> <td>   -0.110</td> <td>   -0.056</td>\n",
       "</tr>\n",
       "<tr>\n",
       "  <th>qtd_filhos</th>                                      <td>   -0.2657</td> <td>    0.108</td> <td>   -2.462</td> <td> 0.014</td> <td>   -0.477</td> <td>   -0.054</td>\n",
       "</tr>\n",
       "<tr>\n",
       "  <th>idade</th>                                           <td>    0.0054</td> <td>    0.001</td> <td>    6.939</td> <td> 0.000</td> <td>    0.004</td> <td>    0.007</td>\n",
       "</tr>\n",
       "<tr>\n",
       "  <th>tempo_emprego</th>                                   <td>    0.0617</td> <td>    0.001</td> <td>   59.468</td> <td> 0.000</td> <td>    0.060</td> <td>    0.064</td>\n",
       "</tr>\n",
       "<tr>\n",
       "  <th>qt_pessoas_residencia</th>                           <td>    0.2931</td> <td>    0.108</td> <td>    2.721</td> <td> 0.007</td> <td>    0.082</td> <td>    0.504</td>\n",
       "</tr>\n",
       "</table>\n",
       "<table class=\"simpletable\">\n",
       "<tr>\n",
       "  <th>Omnibus:</th>       <td> 0.824</td> <th>  Durbin-Watson:     </th> <td>   2.023</td>\n",
       "</tr>\n",
       "<tr>\n",
       "  <th>Prob(Omnibus):</th> <td> 0.662</td> <th>  Jarque-Bera (JB):  </th> <td>   0.808</td>\n",
       "</tr>\n",
       "<tr>\n",
       "  <th>Skew:</th>          <td> 0.019</td> <th>  Prob(JB):          </th> <td>   0.668</td>\n",
       "</tr>\n",
       "<tr>\n",
       "  <th>Kurtosis:</th>      <td> 3.010</td> <th>  Cond. No.          </th> <td>2.13e+03</td>\n",
       "</tr>\n",
       "</table><br/><br/>Notes:<br/>[1] Standard Errors assume that the covariance matrix of the errors is correctly specified.<br/>[2] The condition number is large, 2.13e+03. This might indicate that there are<br/>strong multicollinearity or other numerical problems."
      ],
      "text/plain": [
       "<class 'statsmodels.iolib.summary.Summary'>\n",
       "\"\"\"\n",
       "                            OLS Regression Results                            \n",
       "==============================================================================\n",
       "Dep. Variable:          np.log(renda)   R-squared:                       0.357\n",
       "Model:                            OLS   Adj. R-squared:                  0.356\n",
       "Method:                 Least Squares   F-statistic:                     530.1\n",
       "Date:                Tue, 15 Nov 2022   Prob (F-statistic):               0.00\n",
       "Time:                        19:46:04   Log-Likelihood:                -13572.\n",
       "No. Observations:               12427   AIC:                         2.717e+04\n",
       "Df Residuals:                   12413   BIC:                         2.728e+04\n",
       "Df Model:                          13                                         \n",
       "Covariance Type:            nonrobust                                         \n",
       "===================================================================================================================\n",
       "                                                      coef    std err          t      P>|t|      [0.025      0.975]\n",
       "-------------------------------------------------------------------------------------------------------------------\n",
       "Intercept                                           6.5987      0.218     30.210      0.000       6.171       7.027\n",
       "C(sexo, Treatment(0))[T.M]                          0.7897      0.015     54.092      0.000       0.761       0.818\n",
       "C(tipo_renda, Treatment(0))[T.Empresário]           0.1550      0.015     10.413      0.000       0.126       0.184\n",
       "C(tipo_renda, Treatment(0))[T.Servidor público]     0.0591      0.022      2.661      0.008       0.016       0.103\n",
       "C(educacao, Treatment(0))[T.Superior completo]      0.1096      0.014      8.078      0.000       0.083       0.136\n",
       "C(estado_civil, Treatment(2))[T.Separado]           0.3313      0.111      2.979      0.003       0.113       0.549\n",
       "C(estado_civil, Treatment(2))[T.Solteiro]           0.2709      0.109      2.489      0.013       0.058       0.484\n",
       "C(estado_civil, Treatment(2))[T.Viúvo]              0.3713      0.116      3.213      0.001       0.145       0.598\n",
       "C(posse_de_veiculo, Treatment(0))[T.True]           0.0455      0.014      3.230      0.001       0.018       0.073\n",
       "C(posse_de_imovel, Treatment(1))[T.False]          -0.0833      0.014     -6.077      0.000      -0.110      -0.056\n",
       "qtd_filhos                                         -0.2657      0.108     -2.462      0.014      -0.477      -0.054\n",
       "idade                                               0.0054      0.001      6.939      0.000       0.004       0.007\n",
       "tempo_emprego                                       0.0617      0.001     59.468      0.000       0.060       0.064\n",
       "qt_pessoas_residencia                               0.2931      0.108      2.721      0.007       0.082       0.504\n",
       "==============================================================================\n",
       "Omnibus:                        0.824   Durbin-Watson:                   2.023\n",
       "Prob(Omnibus):                  0.662   Jarque-Bera (JB):                0.808\n",
       "Skew:                           0.019   Prob(JB):                        0.668\n",
       "Kurtosis:                       3.010   Cond. No.                     2.13e+03\n",
       "==============================================================================\n",
       "\n",
       "Notes:\n",
       "[1] Standard Errors assume that the covariance matrix of the errors is correctly specified.\n",
       "[2] The condition number is large, 2.13e+03. This might indicate that there are\n",
       "strong multicollinearity or other numerical problems.\n",
       "\"\"\""
      ]
     },
     "execution_count": 26,
     "metadata": {},
     "output_type": "execute_result"
    }
   ],
   "source": [
    "sm.OLS(y, x).fit().summary()"
   ]
  },
  {
   "cell_type": "markdown",
   "metadata": {},
   "source": [
    "# 2"
   ]
  },
  {
   "cell_type": "code",
   "execution_count": 15,
   "metadata": {},
   "outputs": [],
   "source": [
    "df_2 = df.copy()"
   ]
  },
  {
   "cell_type": "code",
   "execution_count": 16,
   "metadata": {},
   "outputs": [
    {
     "data": {
      "text/plain": [
       "União/Casado    11612\n",
       "Solteiro         1798\n",
       "Separado          879\n",
       "Viúvo             711\n",
       "Name: estado_civil, dtype: int64"
      ]
     },
     "execution_count": 16,
     "metadata": {},
     "output_type": "execute_result"
    }
   ],
   "source": [
    "# vamos fazer as alterações nas faladas acima\n",
    "df_2['estado_civil'] = df_2['estado_civil'].apply(lambda i: i if i not in ['União', 'Casado'] else 'União/Casado')\n",
    "df_2['estado_civil'].value_counts()"
   ]
  },
  {
   "cell_type": "code",
   "execution_count": 17,
   "metadata": {},
   "outputs": [
    {
     "data": {
      "text/plain": [
       "Outros               9665\n",
       "Superior completo    5335\n",
       "Name: educacao, dtype: int64"
      ]
     },
     "execution_count": 17,
     "metadata": {},
     "output_type": "execute_result"
    }
   ],
   "source": [
    "df_2['educacao'] = df_2['educacao'].apply(lambda i: i if i=='Superior completo' else 'Outros')\n",
    "df_2['educacao'].value_counts()"
   ]
  },
  {
   "cell_type": "code",
   "execution_count": 18,
   "metadata": {},
   "outputs": [
    {
     "data": {
      "text/plain": [
       "Bolsista/Pensionista/Assalariado    10224\n",
       "Empresário                           3508\n",
       "Servidor público                     1268\n",
       "Name: tipo_renda, dtype: int64"
      ]
     },
     "execution_count": 18,
     "metadata": {},
     "output_type": "execute_result"
    }
   ],
   "source": [
    "df_2['tipo_renda'] = df_2['tipo_renda'].apply(lambda i: i if i not in ['Bolsista', 'Pensionista', 'Assalariado'] else 'Bolsista/Pensionista/Assalariado')\n",
    "df_2['tipo_renda'].value_counts()"
   ]
  },
  {
   "cell_type": "code",
   "execution_count": 19,
   "metadata": {},
   "outputs": [
    {
     "data": {
      "text/plain": [
       "DesignMatrix with shape (12427, 14)\n",
       "  Columns:\n",
       "    ['Intercept',\n",
       "     'C(sexo, Treatment(0))[T.M]',\n",
       "     'C(tipo_renda, Treatment(0))[T.Empresário]',\n",
       "     'C(tipo_renda, Treatment(0))[T.Servidor público]',\n",
       "     'C(educacao, Treatment(0))[T.Superior completo]',\n",
       "     'C(estado_civil, Treatment(2))[T.Separado]',\n",
       "     'C(estado_civil, Treatment(2))[T.Solteiro]',\n",
       "     'C(estado_civil, Treatment(2))[T.Viúvo]',\n",
       "     'C(posse_de_veiculo, Treatment(0))[T.True]',\n",
       "     'C(posse_de_imovel, Treatment(1))[T.False]',\n",
       "     'qtd_filhos',\n",
       "     'idade',\n",
       "     'tempo_emprego',\n",
       "     'qt_pessoas_residencia']\n",
       "  Terms:\n",
       "    'Intercept' (column 0)\n",
       "    'C(sexo, Treatment(0))' (column 1)\n",
       "    'C(tipo_renda, Treatment(0))' (columns 2:4)\n",
       "    'C(educacao, Treatment(0))' (column 4)\n",
       "    'C(estado_civil, Treatment(2))' (columns 5:8)\n",
       "    'C(posse_de_veiculo, Treatment(0))' (column 8)\n",
       "    'C(posse_de_imovel, Treatment(1))' (column 9)\n",
       "    'qtd_filhos' (column 10)\n",
       "    'idade' (column 11)\n",
       "    'tempo_emprego' (column 12)\n",
       "    'qt_pessoas_residencia' (column 13)\n",
       "  (to view full data, use np.asarray(this_obj))"
      ]
     },
     "execution_count": 19,
     "metadata": {},
     "output_type": "execute_result"
    }
   ],
   "source": [
    "# variáveis qualitativas como dummies\n",
    "y, x = patsy.dmatrices('''\n",
    "                       np.log(renda) ~ \n",
    "                               C(sexo, Treatment(0))\n",
    "                               + C(tipo_renda, Treatment(0))\n",
    "                               + C(educacao, Treatment(0))\n",
    "                               + C(estado_civil, Treatment(2))\n",
    "                               + C(posse_de_veiculo, Treatment(0))\n",
    "                               + C(posse_de_imovel, Treatment(1))\n",
    "                               + qtd_filhos\n",
    "                               + idade\n",
    "                               + tempo_emprego\n",
    "                               + qt_pessoas_residencia\n",
    "                       ''', data = df_2)\n",
    "x"
   ]
  },
  {
   "cell_type": "code",
   "execution_count": 20,
   "metadata": {},
   "outputs": [
    {
     "data": {
      "text/html": [
       "<table class=\"simpletable\">\n",
       "<caption>OLS Regression Results</caption>\n",
       "<tr>\n",
       "  <th>Dep. Variable:</th>      <td>np.log(renda)</td>  <th>  R-squared:         </th> <td>   0.357</td> \n",
       "</tr>\n",
       "<tr>\n",
       "  <th>Model:</th>                   <td>OLS</td>       <th>  Adj. R-squared:    </th> <td>   0.356</td> \n",
       "</tr>\n",
       "<tr>\n",
       "  <th>Method:</th>             <td>Least Squares</td>  <th>  F-statistic:       </th> <td>   530.1</td> \n",
       "</tr>\n",
       "<tr>\n",
       "  <th>Date:</th>             <td>Tue, 15 Nov 2022</td> <th>  Prob (F-statistic):</th>  <td>  0.00</td>  \n",
       "</tr>\n",
       "<tr>\n",
       "  <th>Time:</th>                 <td>19:41:22</td>     <th>  Log-Likelihood:    </th> <td> -13572.</td> \n",
       "</tr>\n",
       "<tr>\n",
       "  <th>No. Observations:</th>      <td> 12427</td>      <th>  AIC:               </th> <td>2.717e+04</td>\n",
       "</tr>\n",
       "<tr>\n",
       "  <th>Df Residuals:</th>          <td> 12413</td>      <th>  BIC:               </th> <td>2.728e+04</td>\n",
       "</tr>\n",
       "<tr>\n",
       "  <th>Df Model:</th>              <td>    13</td>      <th>                     </th>     <td> </td>    \n",
       "</tr>\n",
       "<tr>\n",
       "  <th>Covariance Type:</th>      <td>nonrobust</td>    <th>                     </th>     <td> </td>    \n",
       "</tr>\n",
       "</table>\n",
       "<table class=\"simpletable\">\n",
       "<tr>\n",
       "                         <td></td>                            <th>coef</th>     <th>std err</th>      <th>t</th>      <th>P>|t|</th>  <th>[0.025</th>    <th>0.975]</th>  \n",
       "</tr>\n",
       "<tr>\n",
       "  <th>Intercept</th>                                       <td>    6.5987</td> <td>    0.218</td> <td>   30.210</td> <td> 0.000</td> <td>    6.171</td> <td>    7.027</td>\n",
       "</tr>\n",
       "<tr>\n",
       "  <th>C(sexo, Treatment(0))[T.M]</th>                      <td>    0.7897</td> <td>    0.015</td> <td>   54.092</td> <td> 0.000</td> <td>    0.761</td> <td>    0.818</td>\n",
       "</tr>\n",
       "<tr>\n",
       "  <th>C(tipo_renda, Treatment(0))[T.Empresário]</th>       <td>    0.1550</td> <td>    0.015</td> <td>   10.413</td> <td> 0.000</td> <td>    0.126</td> <td>    0.184</td>\n",
       "</tr>\n",
       "<tr>\n",
       "  <th>C(tipo_renda, Treatment(0))[T.Servidor público]</th> <td>    0.0591</td> <td>    0.022</td> <td>    2.661</td> <td> 0.008</td> <td>    0.016</td> <td>    0.103</td>\n",
       "</tr>\n",
       "<tr>\n",
       "  <th>C(educacao, Treatment(0))[T.Superior completo]</th>  <td>    0.1096</td> <td>    0.014</td> <td>    8.078</td> <td> 0.000</td> <td>    0.083</td> <td>    0.136</td>\n",
       "</tr>\n",
       "<tr>\n",
       "  <th>C(estado_civil, Treatment(2))[T.Separado]</th>       <td>    0.3313</td> <td>    0.111</td> <td>    2.979</td> <td> 0.003</td> <td>    0.113</td> <td>    0.549</td>\n",
       "</tr>\n",
       "<tr>\n",
       "  <th>C(estado_civil, Treatment(2))[T.Solteiro]</th>       <td>    0.2709</td> <td>    0.109</td> <td>    2.489</td> <td> 0.013</td> <td>    0.058</td> <td>    0.484</td>\n",
       "</tr>\n",
       "<tr>\n",
       "  <th>C(estado_civil, Treatment(2))[T.Viúvo]</th>          <td>    0.3713</td> <td>    0.116</td> <td>    3.213</td> <td> 0.001</td> <td>    0.145</td> <td>    0.598</td>\n",
       "</tr>\n",
       "<tr>\n",
       "  <th>C(posse_de_veiculo, Treatment(0))[T.True]</th>       <td>    0.0455</td> <td>    0.014</td> <td>    3.230</td> <td> 0.001</td> <td>    0.018</td> <td>    0.073</td>\n",
       "</tr>\n",
       "<tr>\n",
       "  <th>C(posse_de_imovel, Treatment(1))[T.False]</th>       <td>   -0.0833</td> <td>    0.014</td> <td>   -6.077</td> <td> 0.000</td> <td>   -0.110</td> <td>   -0.056</td>\n",
       "</tr>\n",
       "<tr>\n",
       "  <th>qtd_filhos</th>                                      <td>   -0.2657</td> <td>    0.108</td> <td>   -2.462</td> <td> 0.014</td> <td>   -0.477</td> <td>   -0.054</td>\n",
       "</tr>\n",
       "<tr>\n",
       "  <th>idade</th>                                           <td>    0.0054</td> <td>    0.001</td> <td>    6.939</td> <td> 0.000</td> <td>    0.004</td> <td>    0.007</td>\n",
       "</tr>\n",
       "<tr>\n",
       "  <th>tempo_emprego</th>                                   <td>    0.0617</td> <td>    0.001</td> <td>   59.468</td> <td> 0.000</td> <td>    0.060</td> <td>    0.064</td>\n",
       "</tr>\n",
       "<tr>\n",
       "  <th>qt_pessoas_residencia</th>                           <td>    0.2931</td> <td>    0.108</td> <td>    2.721</td> <td> 0.007</td> <td>    0.082</td> <td>    0.504</td>\n",
       "</tr>\n",
       "</table>\n",
       "<table class=\"simpletable\">\n",
       "<tr>\n",
       "  <th>Omnibus:</th>       <td> 0.824</td> <th>  Durbin-Watson:     </th> <td>   2.023</td>\n",
       "</tr>\n",
       "<tr>\n",
       "  <th>Prob(Omnibus):</th> <td> 0.662</td> <th>  Jarque-Bera (JB):  </th> <td>   0.808</td>\n",
       "</tr>\n",
       "<tr>\n",
       "  <th>Skew:</th>          <td> 0.019</td> <th>  Prob(JB):          </th> <td>   0.668</td>\n",
       "</tr>\n",
       "<tr>\n",
       "  <th>Kurtosis:</th>      <td> 3.010</td> <th>  Cond. No.          </th> <td>2.13e+03</td>\n",
       "</tr>\n",
       "</table><br/><br/>Notes:<br/>[1] Standard Errors assume that the covariance matrix of the errors is correctly specified.<br/>[2] The condition number is large, 2.13e+03. This might indicate that there are<br/>strong multicollinearity or other numerical problems."
      ],
      "text/plain": [
       "<class 'statsmodels.iolib.summary.Summary'>\n",
       "\"\"\"\n",
       "                            OLS Regression Results                            \n",
       "==============================================================================\n",
       "Dep. Variable:          np.log(renda)   R-squared:                       0.357\n",
       "Model:                            OLS   Adj. R-squared:                  0.356\n",
       "Method:                 Least Squares   F-statistic:                     530.1\n",
       "Date:                Tue, 15 Nov 2022   Prob (F-statistic):               0.00\n",
       "Time:                        19:41:22   Log-Likelihood:                -13572.\n",
       "No. Observations:               12427   AIC:                         2.717e+04\n",
       "Df Residuals:                   12413   BIC:                         2.728e+04\n",
       "Df Model:                          13                                         \n",
       "Covariance Type:            nonrobust                                         \n",
       "===================================================================================================================\n",
       "                                                      coef    std err          t      P>|t|      [0.025      0.975]\n",
       "-------------------------------------------------------------------------------------------------------------------\n",
       "Intercept                                           6.5987      0.218     30.210      0.000       6.171       7.027\n",
       "C(sexo, Treatment(0))[T.M]                          0.7897      0.015     54.092      0.000       0.761       0.818\n",
       "C(tipo_renda, Treatment(0))[T.Empresário]           0.1550      0.015     10.413      0.000       0.126       0.184\n",
       "C(tipo_renda, Treatment(0))[T.Servidor público]     0.0591      0.022      2.661      0.008       0.016       0.103\n",
       "C(educacao, Treatment(0))[T.Superior completo]      0.1096      0.014      8.078      0.000       0.083       0.136\n",
       "C(estado_civil, Treatment(2))[T.Separado]           0.3313      0.111      2.979      0.003       0.113       0.549\n",
       "C(estado_civil, Treatment(2))[T.Solteiro]           0.2709      0.109      2.489      0.013       0.058       0.484\n",
       "C(estado_civil, Treatment(2))[T.Viúvo]              0.3713      0.116      3.213      0.001       0.145       0.598\n",
       "C(posse_de_veiculo, Treatment(0))[T.True]           0.0455      0.014      3.230      0.001       0.018       0.073\n",
       "C(posse_de_imovel, Treatment(1))[T.False]          -0.0833      0.014     -6.077      0.000      -0.110      -0.056\n",
       "qtd_filhos                                         -0.2657      0.108     -2.462      0.014      -0.477      -0.054\n",
       "idade                                               0.0054      0.001      6.939      0.000       0.004       0.007\n",
       "tempo_emprego                                       0.0617      0.001     59.468      0.000       0.060       0.064\n",
       "qt_pessoas_residencia                               0.2931      0.108      2.721      0.007       0.082       0.504\n",
       "==============================================================================\n",
       "Omnibus:                        0.824   Durbin-Watson:                   2.023\n",
       "Prob(Omnibus):                  0.662   Jarque-Bera (JB):                0.808\n",
       "Skew:                           0.019   Prob(JB):                        0.668\n",
       "Kurtosis:                       3.010   Cond. No.                     2.13e+03\n",
       "==============================================================================\n",
       "\n",
       "Notes:\n",
       "[1] Standard Errors assume that the covariance matrix of the errors is correctly specified.\n",
       "[2] The condition number is large, 2.13e+03. This might indicate that there are\n",
       "strong multicollinearity or other numerical problems.\n",
       "\"\"\""
      ]
     },
     "execution_count": 20,
     "metadata": {},
     "output_type": "execute_result"
    }
   ],
   "source": [
    "sm.OLS(y, x).fit().summary()"
   ]
  },
  {
   "cell_type": "markdown",
   "metadata": {},
   "source": [
    "# 3"
   ]
  },
  {
   "cell_type": "code",
   "execution_count": 28,
   "metadata": {
    "scrolled": true
   },
   "outputs": [
    {
     "ename": "TypeError",
     "evalue": "'>=' not supported between instances of 'str' and 'int'",
     "output_type": "error",
     "traceback": [
      "\u001b[1;31m---------------------------------------------------------------------------\u001b[0m",
      "\u001b[1;31mTypeError\u001b[0m                                 Traceback (most recent call last)",
      "\u001b[1;32m~\\AppData\\Local\\Temp\\ipykernel_1240\\834897151.py\u001b[0m in \u001b[0;36m<module>\u001b[1;34m\u001b[0m\n\u001b[1;32m----> 1\u001b[1;33m \u001b[0mdf_2\u001b[0m\u001b[1;33m.\u001b[0m\u001b[0mloc\u001b[0m\u001b[1;33m[\u001b[0m\u001b[0mdf_2\u001b[0m\u001b[1;33m[\u001b[0m\u001b[1;34m'qtd_filhos'\u001b[0m\u001b[1;33m]\u001b[0m\u001b[1;33m>=\u001b[0m\u001b[1;36m2\u001b[0m\u001b[1;33m,\u001b[0m \u001b[1;34m'qtd_filhos'\u001b[0m\u001b[1;33m]\u001b[0m \u001b[1;33m=\u001b[0m \u001b[1;34m'2+'\u001b[0m\u001b[1;33m\u001b[0m\u001b[1;33m\u001b[0m\u001b[0m\n\u001b[0m\u001b[0;32m      2\u001b[0m \u001b[0mdf_2\u001b[0m\u001b[1;33m[\u001b[0m\u001b[1;34m'qtd_filhos'\u001b[0m\u001b[1;33m]\u001b[0m\u001b[1;33m.\u001b[0m\u001b[0mvalue_counts\u001b[0m\u001b[1;33m(\u001b[0m\u001b[1;33m)\u001b[0m\u001b[1;33m\u001b[0m\u001b[1;33m\u001b[0m\u001b[0m\n",
      "\u001b[1;32m~\\anaconda3\\lib\\site-packages\\pandas\\core\\ops\\common.py\u001b[0m in \u001b[0;36mnew_method\u001b[1;34m(self, other)\u001b[0m\n\u001b[0;32m     68\u001b[0m         \u001b[0mother\u001b[0m \u001b[1;33m=\u001b[0m \u001b[0mitem_from_zerodim\u001b[0m\u001b[1;33m(\u001b[0m\u001b[0mother\u001b[0m\u001b[1;33m)\u001b[0m\u001b[1;33m\u001b[0m\u001b[1;33m\u001b[0m\u001b[0m\n\u001b[0;32m     69\u001b[0m \u001b[1;33m\u001b[0m\u001b[0m\n\u001b[1;32m---> 70\u001b[1;33m         \u001b[1;32mreturn\u001b[0m \u001b[0mmethod\u001b[0m\u001b[1;33m(\u001b[0m\u001b[0mself\u001b[0m\u001b[1;33m,\u001b[0m \u001b[0mother\u001b[0m\u001b[1;33m)\u001b[0m\u001b[1;33m\u001b[0m\u001b[1;33m\u001b[0m\u001b[0m\n\u001b[0m\u001b[0;32m     71\u001b[0m \u001b[1;33m\u001b[0m\u001b[0m\n\u001b[0;32m     72\u001b[0m     \u001b[1;32mreturn\u001b[0m \u001b[0mnew_method\u001b[0m\u001b[1;33m\u001b[0m\u001b[1;33m\u001b[0m\u001b[0m\n",
      "\u001b[1;32m~\\anaconda3\\lib\\site-packages\\pandas\\core\\arraylike.py\u001b[0m in \u001b[0;36m__ge__\u001b[1;34m(self, other)\u001b[0m\n\u001b[0;32m     58\u001b[0m     \u001b[1;33m@\u001b[0m\u001b[0munpack_zerodim_and_defer\u001b[0m\u001b[1;33m(\u001b[0m\u001b[1;34m\"__ge__\"\u001b[0m\u001b[1;33m)\u001b[0m\u001b[1;33m\u001b[0m\u001b[1;33m\u001b[0m\u001b[0m\n\u001b[0;32m     59\u001b[0m     \u001b[1;32mdef\u001b[0m \u001b[0m__ge__\u001b[0m\u001b[1;33m(\u001b[0m\u001b[0mself\u001b[0m\u001b[1;33m,\u001b[0m \u001b[0mother\u001b[0m\u001b[1;33m)\u001b[0m\u001b[1;33m:\u001b[0m\u001b[1;33m\u001b[0m\u001b[1;33m\u001b[0m\u001b[0m\n\u001b[1;32m---> 60\u001b[1;33m         \u001b[1;32mreturn\u001b[0m \u001b[0mself\u001b[0m\u001b[1;33m.\u001b[0m\u001b[0m_cmp_method\u001b[0m\u001b[1;33m(\u001b[0m\u001b[0mother\u001b[0m\u001b[1;33m,\u001b[0m \u001b[0moperator\u001b[0m\u001b[1;33m.\u001b[0m\u001b[0mge\u001b[0m\u001b[1;33m)\u001b[0m\u001b[1;33m\u001b[0m\u001b[1;33m\u001b[0m\u001b[0m\n\u001b[0m\u001b[0;32m     61\u001b[0m \u001b[1;33m\u001b[0m\u001b[0m\n\u001b[0;32m     62\u001b[0m     \u001b[1;31m# -------------------------------------------------------------\u001b[0m\u001b[1;33m\u001b[0m\u001b[1;33m\u001b[0m\u001b[0m\n",
      "\u001b[1;32m~\\anaconda3\\lib\\site-packages\\pandas\\core\\series.py\u001b[0m in \u001b[0;36m_cmp_method\u001b[1;34m(self, other, op)\u001b[0m\n\u001b[0;32m   5621\u001b[0m \u001b[1;33m\u001b[0m\u001b[0m\n\u001b[0;32m   5622\u001b[0m         \u001b[1;32mwith\u001b[0m \u001b[0mnp\u001b[0m\u001b[1;33m.\u001b[0m\u001b[0merrstate\u001b[0m\u001b[1;33m(\u001b[0m\u001b[0mall\u001b[0m\u001b[1;33m=\u001b[0m\u001b[1;34m\"ignore\"\u001b[0m\u001b[1;33m)\u001b[0m\u001b[1;33m:\u001b[0m\u001b[1;33m\u001b[0m\u001b[1;33m\u001b[0m\u001b[0m\n\u001b[1;32m-> 5623\u001b[1;33m             \u001b[0mres_values\u001b[0m \u001b[1;33m=\u001b[0m \u001b[0mops\u001b[0m\u001b[1;33m.\u001b[0m\u001b[0mcomparison_op\u001b[0m\u001b[1;33m(\u001b[0m\u001b[0mlvalues\u001b[0m\u001b[1;33m,\u001b[0m \u001b[0mrvalues\u001b[0m\u001b[1;33m,\u001b[0m \u001b[0mop\u001b[0m\u001b[1;33m)\u001b[0m\u001b[1;33m\u001b[0m\u001b[1;33m\u001b[0m\u001b[0m\n\u001b[0m\u001b[0;32m   5624\u001b[0m \u001b[1;33m\u001b[0m\u001b[0m\n\u001b[0;32m   5625\u001b[0m         \u001b[1;32mreturn\u001b[0m \u001b[0mself\u001b[0m\u001b[1;33m.\u001b[0m\u001b[0m_construct_result\u001b[0m\u001b[1;33m(\u001b[0m\u001b[0mres_values\u001b[0m\u001b[1;33m,\u001b[0m \u001b[0mname\u001b[0m\u001b[1;33m=\u001b[0m\u001b[0mres_name\u001b[0m\u001b[1;33m)\u001b[0m\u001b[1;33m\u001b[0m\u001b[1;33m\u001b[0m\u001b[0m\n",
      "\u001b[1;32m~\\anaconda3\\lib\\site-packages\\pandas\\core\\ops\\array_ops.py\u001b[0m in \u001b[0;36mcomparison_op\u001b[1;34m(left, right, op)\u001b[0m\n\u001b[0;32m    281\u001b[0m \u001b[1;33m\u001b[0m\u001b[0m\n\u001b[0;32m    282\u001b[0m     \u001b[1;32melif\u001b[0m \u001b[0mis_object_dtype\u001b[0m\u001b[1;33m(\u001b[0m\u001b[0mlvalues\u001b[0m\u001b[1;33m.\u001b[0m\u001b[0mdtype\u001b[0m\u001b[1;33m)\u001b[0m \u001b[1;32mor\u001b[0m \u001b[0misinstance\u001b[0m\u001b[1;33m(\u001b[0m\u001b[0mrvalues\u001b[0m\u001b[1;33m,\u001b[0m \u001b[0mstr\u001b[0m\u001b[1;33m)\u001b[0m\u001b[1;33m:\u001b[0m\u001b[1;33m\u001b[0m\u001b[1;33m\u001b[0m\u001b[0m\n\u001b[1;32m--> 283\u001b[1;33m         \u001b[0mres_values\u001b[0m \u001b[1;33m=\u001b[0m \u001b[0mcomp_method_OBJECT_ARRAY\u001b[0m\u001b[1;33m(\u001b[0m\u001b[0mop\u001b[0m\u001b[1;33m,\u001b[0m \u001b[0mlvalues\u001b[0m\u001b[1;33m,\u001b[0m \u001b[0mrvalues\u001b[0m\u001b[1;33m)\u001b[0m\u001b[1;33m\u001b[0m\u001b[1;33m\u001b[0m\u001b[0m\n\u001b[0m\u001b[0;32m    284\u001b[0m \u001b[1;33m\u001b[0m\u001b[0m\n\u001b[0;32m    285\u001b[0m     \u001b[1;32melse\u001b[0m\u001b[1;33m:\u001b[0m\u001b[1;33m\u001b[0m\u001b[1;33m\u001b[0m\u001b[0m\n",
      "\u001b[1;32m~\\anaconda3\\lib\\site-packages\\pandas\\core\\ops\\array_ops.py\u001b[0m in \u001b[0;36mcomp_method_OBJECT_ARRAY\u001b[1;34m(op, x, y)\u001b[0m\n\u001b[0;32m     71\u001b[0m         \u001b[0mresult\u001b[0m \u001b[1;33m=\u001b[0m \u001b[0mlibops\u001b[0m\u001b[1;33m.\u001b[0m\u001b[0mvec_compare\u001b[0m\u001b[1;33m(\u001b[0m\u001b[0mx\u001b[0m\u001b[1;33m.\u001b[0m\u001b[0mravel\u001b[0m\u001b[1;33m(\u001b[0m\u001b[1;33m)\u001b[0m\u001b[1;33m,\u001b[0m \u001b[0my\u001b[0m\u001b[1;33m.\u001b[0m\u001b[0mravel\u001b[0m\u001b[1;33m(\u001b[0m\u001b[1;33m)\u001b[0m\u001b[1;33m,\u001b[0m \u001b[0mop\u001b[0m\u001b[1;33m)\u001b[0m\u001b[1;33m\u001b[0m\u001b[1;33m\u001b[0m\u001b[0m\n\u001b[0;32m     72\u001b[0m     \u001b[1;32melse\u001b[0m\u001b[1;33m:\u001b[0m\u001b[1;33m\u001b[0m\u001b[1;33m\u001b[0m\u001b[0m\n\u001b[1;32m---> 73\u001b[1;33m         \u001b[0mresult\u001b[0m \u001b[1;33m=\u001b[0m \u001b[0mlibops\u001b[0m\u001b[1;33m.\u001b[0m\u001b[0mscalar_compare\u001b[0m\u001b[1;33m(\u001b[0m\u001b[0mx\u001b[0m\u001b[1;33m.\u001b[0m\u001b[0mravel\u001b[0m\u001b[1;33m(\u001b[0m\u001b[1;33m)\u001b[0m\u001b[1;33m,\u001b[0m \u001b[0my\u001b[0m\u001b[1;33m,\u001b[0m \u001b[0mop\u001b[0m\u001b[1;33m)\u001b[0m\u001b[1;33m\u001b[0m\u001b[1;33m\u001b[0m\u001b[0m\n\u001b[0m\u001b[0;32m     74\u001b[0m     \u001b[1;32mreturn\u001b[0m \u001b[0mresult\u001b[0m\u001b[1;33m.\u001b[0m\u001b[0mreshape\u001b[0m\u001b[1;33m(\u001b[0m\u001b[0mx\u001b[0m\u001b[1;33m.\u001b[0m\u001b[0mshape\u001b[0m\u001b[1;33m)\u001b[0m\u001b[1;33m\u001b[0m\u001b[1;33m\u001b[0m\u001b[0m\n\u001b[0;32m     75\u001b[0m \u001b[1;33m\u001b[0m\u001b[0m\n",
      "\u001b[1;32m~\\anaconda3\\lib\\site-packages\\pandas\\_libs\\ops.pyx\u001b[0m in \u001b[0;36mpandas._libs.ops.scalar_compare\u001b[1;34m()\u001b[0m\n",
      "\u001b[1;31mTypeError\u001b[0m: '>=' not supported between instances of 'str' and 'int'"
     ]
    }
   ],
   "source": [
    "df_2.loc[df_2['qtd_filhos']>=2, 'qtd_filhos'] = '2+'\n",
    "df_2['qtd_filhos'].value_counts()"
   ]
  },
  {
   "cell_type": "code",
   "execution_count": 29,
   "metadata": {},
   "outputs": [
    {
     "data": {
      "text/plain": [
       "2.0    8181\n",
       "1.0    2752\n",
       "3.0    2551\n",
       "4+     1516\n",
       "Name: qt_pessoas_residencia, dtype: int64"
      ]
     },
     "execution_count": 29,
     "metadata": {},
     "output_type": "execute_result"
    }
   ],
   "source": [
    "df_2.loc[df_2['qt_pessoas_residencia']>=4, 'qt_pessoas_residencia'] = '4+'\n",
    "df_2['qt_pessoas_residencia'].value_counts()"
   ]
  },
  {
   "cell_type": "code",
   "execution_count": 30,
   "metadata": {},
   "outputs": [
    {
     "data": {
      "text/plain": [
       "DesignMatrix with shape (12427, 17)\n",
       "  Columns:\n",
       "    ['Intercept',\n",
       "     'C(sexo, Treatment(0))[T.M]',\n",
       "     'C(tipo_renda, Treatment(0))[T.Empresário]',\n",
       "     'C(tipo_renda, Treatment(0))[T.Servidor público]',\n",
       "     'C(educacao, Treatment(0))[T.Superior completo]',\n",
       "     'C(estado_civil, Treatment(2))[T.Separado]',\n",
       "     'C(estado_civil, Treatment(2))[T.Solteiro]',\n",
       "     'C(estado_civil, Treatment(2))[T.Viúvo]',\n",
       "     'C(posse_de_veiculo, Treatment(0))[T.True]',\n",
       "     'C(posse_de_imovel, Treatment(1))[T.False]',\n",
       "     'C(qtd_filhos)[T.1]',\n",
       "     'C(qtd_filhos)[T.2+]',\n",
       "     'C(qt_pessoas_residencia, Treatment(2))[T.1.0]',\n",
       "     'C(qt_pessoas_residencia, Treatment(2))[T.3.0]',\n",
       "     'C(qt_pessoas_residencia, Treatment(2))[T.4+]',\n",
       "     'idade',\n",
       "     'tempo_emprego']\n",
       "  Terms:\n",
       "    'Intercept' (column 0)\n",
       "    'C(sexo, Treatment(0))' (column 1)\n",
       "    'C(tipo_renda, Treatment(0))' (columns 2:4)\n",
       "    'C(educacao, Treatment(0))' (column 4)\n",
       "    'C(estado_civil, Treatment(2))' (columns 5:8)\n",
       "    'C(posse_de_veiculo, Treatment(0))' (column 8)\n",
       "    'C(posse_de_imovel, Treatment(1))' (column 9)\n",
       "    'C(qtd_filhos)' (columns 10:12)\n",
       "    'C(qt_pessoas_residencia, Treatment(2))' (columns 12:15)\n",
       "    'idade' (column 15)\n",
       "    'tempo_emprego' (column 16)\n",
       "  (to view full data, use np.asarray(this_obj))"
      ]
     },
     "execution_count": 30,
     "metadata": {},
     "output_type": "execute_result"
    }
   ],
   "source": [
    "y, x = patsy.dmatrices('''\n",
    "                       np.log(renda) ~ \n",
    "                               C(sexo, Treatment(0))\n",
    "                               + C(tipo_renda, Treatment(0))\n",
    "                               + C(educacao, Treatment(0))\n",
    "                               + C(estado_civil, Treatment(2))\n",
    "                               + C(posse_de_veiculo, Treatment(0))\n",
    "                               + C(posse_de_imovel, Treatment(1))\n",
    "                               + C(qtd_filhos)\n",
    "                               + idade\n",
    "                               + tempo_emprego\n",
    "                               + C(qt_pessoas_residencia, Treatment(2))\n",
    "                       ''', data = df_2)\n",
    "x"
   ]
  },
  {
   "cell_type": "code",
   "execution_count": 31,
   "metadata": {},
   "outputs": [
    {
     "data": {
      "text/html": [
       "<table class=\"simpletable\">\n",
       "<caption>OLS Regression Results</caption>\n",
       "<tr>\n",
       "  <th>Dep. Variable:</th>      <td>np.log(renda)</td>  <th>  R-squared:         </th> <td>   0.357</td> \n",
       "</tr>\n",
       "<tr>\n",
       "  <th>Model:</th>                   <td>OLS</td>       <th>  Adj. R-squared:    </th> <td>   0.356</td> \n",
       "</tr>\n",
       "<tr>\n",
       "  <th>Method:</th>             <td>Least Squares</td>  <th>  F-statistic:       </th> <td>   431.1</td> \n",
       "</tr>\n",
       "<tr>\n",
       "  <th>Date:</th>             <td>Tue, 15 Nov 2022</td> <th>  Prob (F-statistic):</th>  <td>  0.00</td>  \n",
       "</tr>\n",
       "<tr>\n",
       "  <th>Time:</th>                 <td>19:50:05</td>     <th>  Log-Likelihood:    </th> <td> -13570.</td> \n",
       "</tr>\n",
       "<tr>\n",
       "  <th>No. Observations:</th>      <td> 12427</td>      <th>  AIC:               </th> <td>2.717e+04</td>\n",
       "</tr>\n",
       "<tr>\n",
       "  <th>Df Residuals:</th>          <td> 12410</td>      <th>  BIC:               </th> <td>2.730e+04</td>\n",
       "</tr>\n",
       "<tr>\n",
       "  <th>Df Model:</th>              <td>    16</td>      <th>                     </th>     <td> </td>    \n",
       "</tr>\n",
       "<tr>\n",
       "  <th>Covariance Type:</th>      <td>nonrobust</td>    <th>                     </th>     <td> </td>    \n",
       "</tr>\n",
       "</table>\n",
       "<table class=\"simpletable\">\n",
       "<tr>\n",
       "                         <td></td>                            <th>coef</th>     <th>std err</th>      <th>t</th>      <th>P>|t|</th>  <th>[0.025</th>    <th>0.975]</th>  \n",
       "</tr>\n",
       "<tr>\n",
       "  <th>Intercept</th>                                       <td>    7.1667</td> <td>    0.037</td> <td>  192.254</td> <td> 0.000</td> <td>    7.094</td> <td>    7.240</td>\n",
       "</tr>\n",
       "<tr>\n",
       "  <th>C(sexo, Treatment(0))[T.M]</th>                      <td>    0.7891</td> <td>    0.015</td> <td>   53.989</td> <td> 0.000</td> <td>    0.760</td> <td>    0.818</td>\n",
       "</tr>\n",
       "<tr>\n",
       "  <th>C(tipo_renda, Treatment(0))[T.Empresário]</th>       <td>    0.1548</td> <td>    0.015</td> <td>   10.401</td> <td> 0.000</td> <td>    0.126</td> <td>    0.184</td>\n",
       "</tr>\n",
       "<tr>\n",
       "  <th>C(tipo_renda, Treatment(0))[T.Servidor público]</th> <td>    0.0579</td> <td>    0.022</td> <td>    2.608</td> <td> 0.009</td> <td>    0.014</td> <td>    0.101</td>\n",
       "</tr>\n",
       "<tr>\n",
       "  <th>C(educacao, Treatment(0))[T.Superior completo]</th>  <td>    0.1089</td> <td>    0.014</td> <td>    8.023</td> <td> 0.000</td> <td>    0.082</td> <td>    0.136</td>\n",
       "</tr>\n",
       "<tr>\n",
       "  <th>C(estado_civil, Treatment(2))[T.Separado]</th>       <td>    0.2860</td> <td>    0.104</td> <td>    2.746</td> <td> 0.006</td> <td>    0.082</td> <td>    0.490</td>\n",
       "</tr>\n",
       "<tr>\n",
       "  <th>C(estado_civil, Treatment(2))[T.Solteiro]</th>       <td>    0.2257</td> <td>    0.102</td> <td>    2.203</td> <td> 0.028</td> <td>    0.025</td> <td>    0.427</td>\n",
       "</tr>\n",
       "<tr>\n",
       "  <th>C(estado_civil, Treatment(2))[T.Viúvo]</th>          <td>    0.3217</td> <td>    0.110</td> <td>    2.925</td> <td> 0.003</td> <td>    0.106</td> <td>    0.537</td>\n",
       "</tr>\n",
       "<tr>\n",
       "  <th>C(posse_de_veiculo, Treatment(0))[T.True]</th>       <td>    0.0451</td> <td>    0.014</td> <td>    3.201</td> <td> 0.001</td> <td>    0.017</td> <td>    0.073</td>\n",
       "</tr>\n",
       "<tr>\n",
       "  <th>C(posse_de_imovel, Treatment(1))[T.False]</th>       <td>   -0.0824</td> <td>    0.014</td> <td>   -6.003</td> <td> 0.000</td> <td>   -0.109</td> <td>   -0.055</td>\n",
       "</tr>\n",
       "<tr>\n",
       "  <th>C(qtd_filhos)[T.1]</th>                              <td>   -0.2134</td> <td>    0.104</td> <td>   -2.045</td> <td> 0.041</td> <td>   -0.418</td> <td>   -0.009</td>\n",
       "</tr>\n",
       "<tr>\n",
       "  <th>C(qtd_filhos)[T.2+]</th>                             <td>   -0.5148</td> <td>    0.209</td> <td>   -2.459</td> <td> 0.014</td> <td>   -0.925</td> <td>   -0.104</td>\n",
       "</tr>\n",
       "<tr>\n",
       "  <th>C(qt_pessoas_residencia, Treatment(2))[T.1.0]</th>   <td>   -0.2378</td> <td>    0.103</td> <td>   -2.318</td> <td> 0.020</td> <td>   -0.439</td> <td>   -0.037</td>\n",
       "</tr>\n",
       "<tr>\n",
       "  <th>C(qt_pessoas_residencia, Treatment(2))[T.3.0]</th>   <td>    0.2630</td> <td>    0.105</td> <td>    2.509</td> <td> 0.012</td> <td>    0.057</td> <td>    0.469</td>\n",
       "</tr>\n",
       "<tr>\n",
       "  <th>C(qt_pessoas_residencia, Treatment(2))[T.4+]</th>    <td>    0.5882</td> <td>    0.210</td> <td>    2.805</td> <td> 0.005</td> <td>    0.177</td> <td>    0.999</td>\n",
       "</tr>\n",
       "<tr>\n",
       "  <th>idade</th>                                           <td>    0.0057</td> <td>    0.001</td> <td>    7.192</td> <td> 0.000</td> <td>    0.004</td> <td>    0.007</td>\n",
       "</tr>\n",
       "<tr>\n",
       "  <th>tempo_emprego</th>                                   <td>    0.0616</td> <td>    0.001</td> <td>   59.388</td> <td> 0.000</td> <td>    0.060</td> <td>    0.064</td>\n",
       "</tr>\n",
       "</table>\n",
       "<table class=\"simpletable\">\n",
       "<tr>\n",
       "  <th>Omnibus:</th>       <td> 0.985</td> <th>  Durbin-Watson:     </th> <td>   2.022</td>\n",
       "</tr>\n",
       "<tr>\n",
       "  <th>Prob(Omnibus):</th> <td> 0.611</td> <th>  Jarque-Bera (JB):  </th> <td>   0.966</td>\n",
       "</tr>\n",
       "<tr>\n",
       "  <th>Skew:</th>          <td> 0.021</td> <th>  Prob(JB):          </th> <td>   0.617</td>\n",
       "</tr>\n",
       "<tr>\n",
       "  <th>Kurtosis:</th>      <td> 3.012</td> <th>  Cond. No.          </th> <td>2.48e+03</td>\n",
       "</tr>\n",
       "</table><br/><br/>Notes:<br/>[1] Standard Errors assume that the covariance matrix of the errors is correctly specified.<br/>[2] The condition number is large, 2.48e+03. This might indicate that there are<br/>strong multicollinearity or other numerical problems."
      ],
      "text/plain": [
       "<class 'statsmodels.iolib.summary.Summary'>\n",
       "\"\"\"\n",
       "                            OLS Regression Results                            \n",
       "==============================================================================\n",
       "Dep. Variable:          np.log(renda)   R-squared:                       0.357\n",
       "Model:                            OLS   Adj. R-squared:                  0.356\n",
       "Method:                 Least Squares   F-statistic:                     431.1\n",
       "Date:                Tue, 15 Nov 2022   Prob (F-statistic):               0.00\n",
       "Time:                        19:50:05   Log-Likelihood:                -13570.\n",
       "No. Observations:               12427   AIC:                         2.717e+04\n",
       "Df Residuals:                   12410   BIC:                         2.730e+04\n",
       "Df Model:                          16                                         \n",
       "Covariance Type:            nonrobust                                         \n",
       "===================================================================================================================\n",
       "                                                      coef    std err          t      P>|t|      [0.025      0.975]\n",
       "-------------------------------------------------------------------------------------------------------------------\n",
       "Intercept                                           7.1667      0.037    192.254      0.000       7.094       7.240\n",
       "C(sexo, Treatment(0))[T.M]                          0.7891      0.015     53.989      0.000       0.760       0.818\n",
       "C(tipo_renda, Treatment(0))[T.Empresário]           0.1548      0.015     10.401      0.000       0.126       0.184\n",
       "C(tipo_renda, Treatment(0))[T.Servidor público]     0.0579      0.022      2.608      0.009       0.014       0.101\n",
       "C(educacao, Treatment(0))[T.Superior completo]      0.1089      0.014      8.023      0.000       0.082       0.136\n",
       "C(estado_civil, Treatment(2))[T.Separado]           0.2860      0.104      2.746      0.006       0.082       0.490\n",
       "C(estado_civil, Treatment(2))[T.Solteiro]           0.2257      0.102      2.203      0.028       0.025       0.427\n",
       "C(estado_civil, Treatment(2))[T.Viúvo]              0.3217      0.110      2.925      0.003       0.106       0.537\n",
       "C(posse_de_veiculo, Treatment(0))[T.True]           0.0451      0.014      3.201      0.001       0.017       0.073\n",
       "C(posse_de_imovel, Treatment(1))[T.False]          -0.0824      0.014     -6.003      0.000      -0.109      -0.055\n",
       "C(qtd_filhos)[T.1]                                 -0.2134      0.104     -2.045      0.041      -0.418      -0.009\n",
       "C(qtd_filhos)[T.2+]                                -0.5148      0.209     -2.459      0.014      -0.925      -0.104\n",
       "C(qt_pessoas_residencia, Treatment(2))[T.1.0]      -0.2378      0.103     -2.318      0.020      -0.439      -0.037\n",
       "C(qt_pessoas_residencia, Treatment(2))[T.3.0]       0.2630      0.105      2.509      0.012       0.057       0.469\n",
       "C(qt_pessoas_residencia, Treatment(2))[T.4+]        0.5882      0.210      2.805      0.005       0.177       0.999\n",
       "idade                                               0.0057      0.001      7.192      0.000       0.004       0.007\n",
       "tempo_emprego                                       0.0616      0.001     59.388      0.000       0.060       0.064\n",
       "==============================================================================\n",
       "Omnibus:                        0.985   Durbin-Watson:                   2.022\n",
       "Prob(Omnibus):                  0.611   Jarque-Bera (JB):                0.966\n",
       "Skew:                           0.021   Prob(JB):                        0.617\n",
       "Kurtosis:                       3.012   Cond. No.                     2.48e+03\n",
       "==============================================================================\n",
       "\n",
       "Notes:\n",
       "[1] Standard Errors assume that the covariance matrix of the errors is correctly specified.\n",
       "[2] The condition number is large, 2.48e+03. This might indicate that there are\n",
       "strong multicollinearity or other numerical problems.\n",
       "\"\"\""
      ]
     },
     "execution_count": 31,
     "metadata": {},
     "output_type": "execute_result"
    }
   ],
   "source": [
    "sm.OLS(y, x).fit().summary()"
   ]
  }
 ],
 "metadata": {
  "kernelspec": {
   "display_name": "Python 3 (ipykernel)",
   "language": "python",
   "name": "python3"
  },
  "language_info": {
   "codemirror_mode": {
    "name": "ipython",
    "version": 3
   },
   "file_extension": ".py",
   "mimetype": "text/x-python",
   "name": "python",
   "nbconvert_exporter": "python",
   "pygments_lexer": "ipython3",
   "version": "3.9.13"
  }
 },
 "nbformat": 4,
 "nbformat_minor": 4
}
